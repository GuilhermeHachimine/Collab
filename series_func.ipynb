{
  "nbformat": 4,
  "nbformat_minor": 0,
  "metadata": {
    "colab": {
      "provenance": [],
      "authorship_tag": "ABX9TyOE0nIX7QqyvyCaRgpAJqMw",
      "include_colab_link": true
    },
    "kernelspec": {
      "name": "python3",
      "display_name": "Python 3"
    },
    "language_info": {
      "name": "python"
    }
  },
  "cells": [
    {
      "cell_type": "markdown",
      "metadata": {
        "id": "view-in-github",
        "colab_type": "text"
      },
      "source": [
        "<a href=\"https://colab.research.google.com/github/GuilhermeHachimine/Collab/blob/main/series_func.ipynb\" target=\"_parent\"><img src=\"https://colab.research.google.com/assets/colab-badge.svg\" alt=\"Open In Colab\"/></a>"
      ]
    },
    {
      "cell_type": "code",
      "execution_count": 4,
      "metadata": {
        "colab": {
          "base_uri": "https://localhost:8080/"
        },
        "id": "P7piOuGZmsbm",
        "outputId": "30aba52a-e2b9-4e08-d2c5-24305c24308e"
      },
      "outputs": [
        {
          "output_type": "stream",
          "name": "stdout",
          "text": [
            "<class 'pandas.core.series.Series'>\n"
          ]
        }
      ],
      "source": [
        "from pandas import read_csv\n",
        "series = read_csv('female_birth.csv', header=0, parse_dates=[0], index_col=0, squeeze=True)\n",
        "print(type(series))"
      ]
    },
    {
      "cell_type": "code",
      "source": [
        "print(series.head())"
      ],
      "metadata": {
        "colab": {
          "base_uri": "https://localhost:8080/"
        },
        "id": "E9ViPWnLnhnn",
        "outputId": "505a53ca-358b-4cd1-cc28-fbe6df808e3a"
      },
      "execution_count": 5,
      "outputs": [
        {
          "output_type": "stream",
          "name": "stdout",
          "text": [
            "Date\n",
            "1959-01-01    35\n",
            "1959-01-02    32\n",
            "1959-01-03    30\n",
            "1959-01-04    31\n",
            "1959-01-05    44\n",
            "Name: Daily total female births in California, 1959, dtype: int64\n"
          ]
        }
      ]
    },
    {
      "cell_type": "code",
      "source": [
        "print(series.size)"
      ],
      "metadata": {
        "colab": {
          "base_uri": "https://localhost:8080/"
        },
        "id": "laQI9M2bnkF_",
        "outputId": "03fc8f74-52b5-4d00-ac12-b40c7dfb9c3e"
      },
      "execution_count": 6,
      "outputs": [
        {
          "output_type": "stream",
          "name": "stdout",
          "text": [
            "366\n"
          ]
        }
      ]
    },
    {
      "cell_type": "code",
      "source": [
        "print(series.describe())"
      ],
      "metadata": {
        "colab": {
          "base_uri": "https://localhost:8080/"
        },
        "id": "ZIQlSkgknnyH",
        "outputId": "3c66c7fd-79df-46ec-9158-3aa29dde9768"
      },
      "execution_count": 8,
      "outputs": [
        {
          "output_type": "stream",
          "name": "stdout",
          "text": [
            "count     366.000000\n",
            "mean       47.218579\n",
            "std       100.472534\n",
            "min        23.000000\n",
            "25%        37.000000\n",
            "50%        42.000000\n",
            "75%        46.000000\n",
            "max      1959.000000\n",
            "Name: Daily total female births in California, 1959, dtype: float64\n"
          ]
        }
      ]
    }
  ]
}