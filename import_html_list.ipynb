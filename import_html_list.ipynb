{
  "nbformat": 4,
  "nbformat_minor": 0,
  "metadata": {
    "colab": {
      "provenance": [],
      "authorship_tag": "ABX9TyNQdyJpvy1dAoLkwelH/0oU",
      "include_colab_link": true
    },
    "kernelspec": {
      "name": "python3",
      "display_name": "Python 3"
    },
    "language_info": {
      "name": "python"
    }
  },
  "cells": [
    {
      "cell_type": "markdown",
      "metadata": {
        "id": "view-in-github",
        "colab_type": "text"
      },
      "source": [
        "<a href=\"https://colab.research.google.com/github/GuilhermeHachimine/Collab/blob/main/import_html_list.ipynb\" target=\"_parent\"><img src=\"https://colab.research.google.com/assets/colab-badge.svg\" alt=\"Open In Colab\"/></a>"
      ]
    },
    {
      "cell_type": "code",
      "execution_count": 34,
      "metadata": {
        "colab": {
          "base_uri": "https://localhost:8080/"
        },
        "id": "pV29LFpNZLYh",
        "outputId": "7812c18f-5188-4355-9d21-4b3e4c7a0dfb"
      },
      "outputs": [
        {
          "output_type": "stream",
          "name": "stdout",
          "text": [
            "Looking in indexes: https://pypi.org/simple, https://us-python.pkg.dev/colab-wheels/public/simple/\n",
            "Requirement already satisfied: html5lib in /usr/local/lib/python3.7/dist-packages (1.0.1)\n",
            "Requirement already satisfied: six>=1.9 in /usr/local/lib/python3.7/dist-packages (from html5lib) (1.15.0)\n",
            "Requirement already satisfied: webencodings in /usr/local/lib/python3.7/dist-packages (from html5lib) (0.5.1)\n"
          ]
        }
      ],
      "source": [
        "import pandas as pd\n",
        "!pip install html5lib\n",
        "import html5lib"
      ]
    },
    {
      "cell_type": "code",
      "source": [
        "br = pd.read_html(\"https://pt.wikipedia.org/wiki/Unidades_federativas_do_Brasil\")"
      ],
      "metadata": {
        "id": "2-hn122VgyFY"
      },
      "execution_count": 35,
      "outputs": []
    },
    {
      "cell_type": "code",
      "source": [
        "print(type(br))"
      ],
      "metadata": {
        "colab": {
          "base_uri": "https://localhost:8080/"
        },
        "id": "1okzUCTahGrY",
        "outputId": "de017d4b-e474-4d67-fa6c-1e34358836ab"
      },
      "execution_count": 36,
      "outputs": [
        {
          "output_type": "stream",
          "name": "stdout",
          "text": [
            "<class 'list'>\n"
          ]
        }
      ]
    },
    {
      "cell_type": "code",
      "source": [
        "u = br[0]\n",
        "print(u)"
      ],
      "metadata": {
        "colab": {
          "base_uri": "https://localhost:8080/"
        },
        "id": "xt_9PddihJhw",
        "outputId": "70270a82-ce01-4cca-c97e-09d8cfd0a202"
      },
      "execution_count": 38,
      "outputs": [
        {
          "output_type": "stream",
          "name": "stdout",
          "text": [
            "               0                                                  1  \\\n",
            "0     Capítulo I             Da Organização Político-Administrativa   \n",
            "1    Capítulo II                                           Da União   \n",
            "2   Capítulo III                              Dos Estados Federados   \n",
            "3    Capítulo IV                                     Dos Municípios   \n",
            "4     Capítulo V              Do Distrito Federal e dos Territórios   \n",
            "5        Seção I                                Do Distrito Federal   \n",
            "6       Seção II                                    Dos Territórios   \n",
            "7    Capítulo VI                                     Da Intervenção   \n",
            "8   Capítulo VII                           Da Administração Pública   \n",
            "9        Seção I                                 Disposições Gerais   \n",
            "10      Seção II                            Dos Servidores Públicos   \n",
            "11     Seção III  Dos Militares dos Estados, do Distrito Federal...   \n",
            "12      Seção IV                                        Das Regiões   \n",
            "\n",
            "             2  \n",
            "0   art. 18-19  \n",
            "1   art. 20-24  \n",
            "2   art. 25-28  \n",
            "3   art. 29-31  \n",
            "4   art. 32-33  \n",
            "5      art. 32  \n",
            "6      art. 33  \n",
            "7   art. 34-36  \n",
            "8   art. 37-43  \n",
            "9   art. 37-38  \n",
            "10  art. 39-41  \n",
            "11     art. 42  \n",
            "12     art. 43  \n"
          ]
        }
      ]
    },
    {
      "cell_type": "code",
      "source": [
        "bsc = pd.read_html(\"https://pt.wikipedia.org/wiki/Lista_dos_maiores_bancos_do_Brasil\")\n",
        "b = bsc[3]\n",
        "print(b)"
      ],
      "metadata": {
        "colab": {
          "base_uri": "https://localhost:8080/"
        },
        "id": "VuJ4Kgari9w4",
        "outputId": "511153ef-e51e-4d8a-bbd0-4df399761e2a"
      },
      "execution_count": 41,
      "outputs": [
        {
          "output_type": "stream",
          "name": "stdout",
          "text": [
            "    Posição            Nome do banco   Cidade sede Lucro em R$ (milhões)  \\\n",
            "0         1                 Bradesco        Osasco              22.623,5   \n",
            "1         2            Itaú Unibanco     São Paulo              22.117,7   \n",
            "2         3  Caixa Econômica Federal      Brasília              17.489,6   \n",
            "3         4          Banco do Brasil      Brasília              15.685,1   \n",
            "4         5         Santander Brasil     São Paulo              12.609,2   \n",
            "5         6              BTG Pactual     São Paulo               3.593,8   \n",
            "6         7                   Sicoob      Brasília               3.050,0   \n",
            "7         8              Banco Safra     São Paulo               1.994,8   \n",
            "8         9        Banco do Nordeste     Fortaleza               1.565,5   \n",
            "9        10         Banco Votorantim     São Paulo               1.183,4   \n",
            "10       11                 Banrisul  Porto Alegre               1.148,3   \n",
            "11       12          Citibank Brasil     São Paulo                  9577   \n",
            "\n",
            "    Ano dos dados  País de origem  \n",
            "0            2019          Brasil  \n",
            "1            2019          Brasil  \n",
            "2            2019          Brasil  \n",
            "3            2019          Brasil  \n",
            "4            2019         Espanha  \n",
            "5            2019          Brasil  \n",
            "6            2019          Brasil  \n",
            "7            2019          Brasil  \n",
            "8            2019          Brasil  \n",
            "9            2019          Brasil  \n",
            "10           2019          Brasil  \n",
            "11           2019  Estados Unidos  \n"
          ]
        }
      ]
    }
  ]
}